{
 "cells": [
  {
   "cell_type": "code",
   "execution_count": 1,
   "metadata": {},
   "outputs": [],
   "source": [
    "import h5py\n",
    "import pandas as pd\n",
    "import os"
   ]
  },
  {
   "cell_type": "code",
   "execution_count": 2,
   "metadata": {},
   "outputs": [],
   "source": [
    "n_sig = 3000\n",
    "\n",
    "# File names\n",
    "file_hlv = '/home/users/o/oleksiyu/WORK/hyperproject/twinturbo/workspaces/2024_09_09/TRANSITv1_HLV/template/outputs/template_sample_con.h5'\n",
    "file_llv = '/home/users/o/oleksiyu/WORK/hyperproject/twinturbo/workspaces/2024_09_09/TRANSIT_LLV/template/outputs/template_sample_con.h5'\n",
    "file_new = f'/home/users/o/oleksiyu/WORK/hyperproject/user/llv_hlv_templates/TRANSIT_try1/n{n_sig}_30003300_37004600.h5'"
   ]
  },
  {
   "cell_type": "code",
   "execution_count": 3,
   "metadata": {},
   "outputs": [
    {
     "name": "stdout",
     "output_type": "stream",
     "text": [
      "983255\n"
     ]
    }
   ],
   "source": [
    "hlv_gen_df = pd.read_hdf(file_hlv)\n",
    "hlv_gen_df.head()\n",
    "print(len(hlv_gen_df))"
   ]
  },
  {
   "cell_type": "code",
   "execution_count": 4,
   "metadata": {},
   "outputs": [],
   "source": [
    "mjj_add = hlv_gen_df['mjj']\n",
    "hlv1_gen = hlv_gen_df[['pt1', 'eta1', 'phi1', 'm1', 'Ncons1']]\n",
    "hlv2_gen = hlv_gen_df[['pt2', 'eta2', 'phi2', 'm2', 'Ncons2']]\n"
   ]
  },
  {
   "cell_type": "code",
   "execution_count": 5,
   "metadata": {},
   "outputs": [
    {
     "data": {
      "text/plain": [
       "0"
      ]
     },
     "execution_count": 5,
     "metadata": {},
     "output_type": "execute_result"
    }
   ],
   "source": [
    "# Copy the file_llv to the new file\n",
    "os.system('cp ' + file_llv + ' ' + file_new)"
   ]
  },
  {
   "cell_type": "code",
   "execution_count": 6,
   "metadata": {},
   "outputs": [],
   "source": [
    "with pd.HDFStore(file_new) as store:\n",
    "    # Save df1 in the group 'group1'\n",
    "    store.put('mjj', mjj_add)\n",
    "    store.put('hlv1', hlv1_gen)\n",
    "    store.put('hlv2', hlv1_gen)"
   ]
  },
  {
   "cell_type": "code",
   "execution_count": null,
   "metadata": {},
   "outputs": [],
   "source": []
  },
  {
   "cell_type": "code",
   "execution_count": null,
   "metadata": {},
   "outputs": [],
   "source": []
  }
 ],
 "metadata": {
  "kernelspec": {
   "display_name": "base",
   "language": "python",
   "name": "python3"
  },
  "language_info": {
   "codemirror_mode": {
    "name": "ipython",
    "version": 3
   },
   "file_extension": ".py",
   "mimetype": "text/x-python",
   "name": "python",
   "nbconvert_exporter": "python",
   "pygments_lexer": "ipython3",
   "version": "3.10.13"
  }
 },
 "nbformat": 4,
 "nbformat_minor": 2
}

{
 "cells": [
  {
   "cell_type": "code",
   "execution_count": 18,
   "metadata": {},
   "outputs": [],
   "source": [
    "import h5py\n",
    "import pandas as pd\n",
    "import os\n",
    "import matplotlib.pyplot as plt\n",
    "import numpy as np \n"
   ]
  },
  {
   "cell_type": "code",
   "execution_count": 19,
   "metadata": {},
   "outputs": [],
   "source": [
    "n_sig = 3000\n",
    "\n",
    "# File names\n",
    "file_hlv = '/home/users/o/oleksiyu/WORK/hyperproject/twinturbo/workspaces/2024_09_09/TRANSITv1_HLV/template/outputs/template_sample_con.h5'\n",
    "file_llv = '/home/users/o/oleksiyu/WORK/hyperproject/twinturbo/workspaces/TEST/TRANSIT_LLV_v2_1cst/template/outputs/template_sample_con.h5'\n",
    "file_new = f'/home/users/o/oleksiyu/WORK/hyperproject/user/llv_hlv_templates/TRANSIT_LLV_v2_0cst.h5'\n",
    "destroy_constituents = False"
   ]
  },
  {
   "cell_type": "code",
   "execution_count": 20,
   "metadata": {},
   "outputs": [
    {
     "name": "stdout",
     "output_type": "stream",
     "text": [
      "983255\n"
     ]
    }
   ],
   "source": [
    "hlv_gen_df = pd.read_hdf(file_hlv)\n",
    "hlv_gen_df.head()\n",
    "print(len(hlv_gen_df))"
   ]
  },
  {
   "cell_type": "code",
   "execution_count": 21,
   "metadata": {},
   "outputs": [
    {
     "name": "stderr",
     "output_type": "stream",
     "text": [
      "/tmp/ipykernel_2615667/1047336563.py:4: SettingWithCopyWarning: \n",
      "A value is trying to be set on a copy of a slice from a DataFrame.\n",
      "Try using .loc[row_indexer,col_indexer] = value instead\n",
      "\n",
      "See the caveats in the documentation: https://pandas.pydata.org/pandas-docs/stable/user_guide/indexing.html#returning-a-view-versus-a-copy\n",
      "  hlv1_gen[\"Ncons1\"] = np.round(hlv1_gen[\"Ncons1\"])\n",
      "/tmp/ipykernel_2615667/1047336563.py:5: SettingWithCopyWarning: \n",
      "A value is trying to be set on a copy of a slice from a DataFrame.\n",
      "Try using .loc[row_indexer,col_indexer] = value instead\n",
      "\n",
      "See the caveats in the documentation: https://pandas.pydata.org/pandas-docs/stable/user_guide/indexing.html#returning-a-view-versus-a-copy\n",
      "  hlv2_gen[\"Ncons2\"] = np.round(hlv2_gen[\"Ncons2\"])\n"
     ]
    }
   ],
   "source": [
    "mjj_add = hlv_gen_df['mjj']\n",
    "hlv1_gen = hlv_gen_df[['pt1', 'eta1', 'phi1', 'm1', 'Ncons1']]\n",
    "hlv2_gen = hlv_gen_df[['pt2', 'eta2', 'phi2', 'm2', 'Ncons2']]\n",
    "hlv1_gen[\"Ncons1\"] = np.round(hlv1_gen[\"Ncons1\"]) \n",
    "hlv2_gen[\"Ncons2\"] = np.round(hlv2_gen[\"Ncons2\"]) \n"
   ]
  },
  {
   "cell_type": "code",
   "execution_count": 22,
   "metadata": {},
   "outputs": [
    {
     "data": {
      "text/html": [
       "<div>\n",
       "<style scoped>\n",
       "    .dataframe tbody tr th:only-of-type {\n",
       "        vertical-align: middle;\n",
       "    }\n",
       "\n",
       "    .dataframe tbody tr th {\n",
       "        vertical-align: top;\n",
       "    }\n",
       "\n",
       "    .dataframe thead th {\n",
       "        text-align: right;\n",
       "    }\n",
       "</style>\n",
       "<table border=\"1\" class=\"dataframe\">\n",
       "  <thead>\n",
       "    <tr style=\"text-align: right;\">\n",
       "      <th></th>\n",
       "      <th>pt1</th>\n",
       "      <th>eta1</th>\n",
       "      <th>phi1</th>\n",
       "      <th>m1</th>\n",
       "      <th>Ncons1</th>\n",
       "    </tr>\n",
       "  </thead>\n",
       "  <tbody>\n",
       "    <tr>\n",
       "      <th>0</th>\n",
       "      <td>1791.491455</td>\n",
       "      <td>-0.497463</td>\n",
       "      <td>-1.523130</td>\n",
       "      <td>86.738235</td>\n",
       "      <td>24.0</td>\n",
       "    </tr>\n",
       "    <tr>\n",
       "      <th>1</th>\n",
       "      <td>1557.892578</td>\n",
       "      <td>0.218501</td>\n",
       "      <td>1.401266</td>\n",
       "      <td>229.927048</td>\n",
       "      <td>70.0</td>\n",
       "    </tr>\n",
       "    <tr>\n",
       "      <th>2</th>\n",
       "      <td>1441.246704</td>\n",
       "      <td>0.018925</td>\n",
       "      <td>1.482280</td>\n",
       "      <td>58.972488</td>\n",
       "      <td>38.0</td>\n",
       "    </tr>\n",
       "    <tr>\n",
       "      <th>3</th>\n",
       "      <td>1522.315796</td>\n",
       "      <td>0.760745</td>\n",
       "      <td>-2.183590</td>\n",
       "      <td>119.039764</td>\n",
       "      <td>47.0</td>\n",
       "    </tr>\n",
       "    <tr>\n",
       "      <th>4</th>\n",
       "      <td>1292.712524</td>\n",
       "      <td>0.935567</td>\n",
       "      <td>-2.974176</td>\n",
       "      <td>75.615143</td>\n",
       "      <td>21.0</td>\n",
       "    </tr>\n",
       "  </tbody>\n",
       "</table>\n",
       "</div>"
      ],
      "text/plain": [
       "           pt1      eta1      phi1          m1  Ncons1\n",
       "0  1791.491455 -0.497463 -1.523130   86.738235    24.0\n",
       "1  1557.892578  0.218501  1.401266  229.927048    70.0\n",
       "2  1441.246704  0.018925  1.482280   58.972488    38.0\n",
       "3  1522.315796  0.760745 -2.183590  119.039764    47.0\n",
       "4  1292.712524  0.935567 -2.974176   75.615143    21.0"
      ]
     },
     "execution_count": 22,
     "metadata": {},
     "output_type": "execute_result"
    }
   ],
   "source": [
    "hlv1_gen.head()"
   ]
  },
  {
   "cell_type": "code",
   "execution_count": 23,
   "metadata": {},
   "outputs": [],
   "source": [
    "# Copy the file_llv to the new file\n",
    "#os.system('cp ' + file_llv + ' ' + file_new)"
   ]
  },
  {
   "cell_type": "code",
   "execution_count": 24,
   "metadata": {},
   "outputs": [
    {
     "name": "stdout",
     "output_type": "stream",
     "text": [
      "Keys: ['jet1_locals', 'jet2_locals']\n"
     ]
    }
   ],
   "source": [
    "hdf=h5py.File(file_llv, 'r')\n",
    "# List all groups and datasets in the file\n",
    "print(\"Keys: %s\" % list(hdf.keys()))\n",
    "\n",
    "# Access a specific dataset by key\n",
    "jet1_locals = hdf['jet1_locals']\n",
    "jet2_locals = hdf['jet2_locals']\n"
   ]
  },
  {
   "cell_type": "code",
   "execution_count": null,
   "metadata": {},
   "outputs": [],
   "source": []
  },
  {
   "cell_type": "code",
   "execution_count": 25,
   "metadata": {},
   "outputs": [],
   "source": [
    "if destroy_constituents:\n",
    "    with h5py.File(file_new, \"a\") as file:\n",
    "        file.create_dataset(\"jet1_locals\", data=jet1_locals[:]*0+1)\n",
    "    with h5py.File(file_new, \"a\") as file:\n",
    "        file.create_dataset(\"jet2_locals\", data=jet2_locals[:]*0+1)\n",
    "else:\n",
    "    with h5py.File(file_new, \"a\") as file:\n",
    "        file.create_dataset(\"jet1_locals\", data=jet1_locals[:])\n",
    "    with h5py.File(file_new, \"a\") as file:\n",
    "        file.create_dataset(\"jet2_locals\", data=jet2_locals[:])\n",
    "\n",
    "with pd.HDFStore(file_new) as store:\n",
    "    # Save df1 in the group 'group1'\n",
    "    store.put('mjj', mjj_add)\n",
    "    store.put('hlv1', hlv1_gen)\n",
    "    store.put('hlv2', hlv2_gen)\n"
   ]
  },
  {
   "cell_type": "code",
   "execution_count": null,
   "metadata": {},
   "outputs": [],
   "source": []
  },
  {
   "cell_type": "code",
   "execution_count": 26,
   "metadata": {},
   "outputs": [
    {
     "ename": "ValueError",
     "evalue": "Field names only allowed for compound types",
     "output_type": "error",
     "traceback": [
      "\u001b[0;31m---------------------------------------------------------------------------\u001b[0m",
      "\u001b[0;31mValueError\u001b[0m                                Traceback (most recent call last)",
      "Cell \u001b[0;32mIn[26], line 1\u001b[0m\n\u001b[0;32m----> 1\u001b[0m plt\u001b[38;5;241m.\u001b[39mhist(\u001b[43mjet1_locals\u001b[49m\u001b[43m[\u001b[49m\u001b[38;5;124;43m'\u001b[39;49m\u001b[38;5;124;43mpt\u001b[39;49m\u001b[38;5;124;43m'\u001b[39;49m\u001b[43m]\u001b[49m, bins\u001b[38;5;241m=\u001b[39m\u001b[38;5;241m100\u001b[39m)\n",
      "File \u001b[0;32mh5py/_objects.pyx:54\u001b[0m, in \u001b[0;36mh5py._objects.with_phil.wrapper\u001b[0;34m()\u001b[0m\n",
      "File \u001b[0;32mh5py/_objects.pyx:55\u001b[0m, in \u001b[0;36mh5py._objects.with_phil.wrapper\u001b[0;34m()\u001b[0m\n",
      "File \u001b[0;32m/opt/conda/lib/python3.10/site-packages/h5py/_hl/dataset.py:777\u001b[0m, in \u001b[0;36mDataset.__getitem__\u001b[0;34m(self, args, new_dtype)\u001b[0m\n\u001b[1;32m    775\u001b[0m         names \u001b[38;5;241m=\u001b[39m names[\u001b[38;5;241m0\u001b[39m]  \u001b[38;5;66;03m# Read with simpler dtype of this field\u001b[39;00m\n\u001b[1;32m    776\u001b[0m     args \u001b[38;5;241m=\u001b[39m \u001b[38;5;28mtuple\u001b[39m(x \u001b[38;5;28;01mfor\u001b[39;00m x \u001b[38;5;129;01min\u001b[39;00m args \u001b[38;5;28;01mif\u001b[39;00m \u001b[38;5;129;01mnot\u001b[39;00m \u001b[38;5;28misinstance\u001b[39m(x, \u001b[38;5;28mstr\u001b[39m))\n\u001b[0;32m--> 777\u001b[0m     \u001b[38;5;28;01mreturn\u001b[39;00m \u001b[38;5;28;43mself\u001b[39;49m\u001b[38;5;241;43m.\u001b[39;49m\u001b[43mfields\u001b[49m\u001b[43m(\u001b[49m\u001b[43mnames\u001b[49m\u001b[43m,\u001b[49m\u001b[43m \u001b[49m\u001b[43m_prior_dtype\u001b[49m\u001b[38;5;241;43m=\u001b[39;49m\u001b[43mnew_dtype\u001b[49m\u001b[43m)\u001b[49m[args]\n\u001b[1;32m    779\u001b[0m \u001b[38;5;28;01mif\u001b[39;00m new_dtype \u001b[38;5;129;01mis\u001b[39;00m \u001b[38;5;28;01mNone\u001b[39;00m:\n\u001b[1;32m    780\u001b[0m     new_dtype \u001b[38;5;241m=\u001b[39m \u001b[38;5;28mself\u001b[39m\u001b[38;5;241m.\u001b[39mdtype\n",
      "File \u001b[0;32m/opt/conda/lib/python3.10/site-packages/h5py/_hl/dataset.py:440\u001b[0m, in \u001b[0;36mDataset.fields\u001b[0;34m(self, names, _prior_dtype)\u001b[0m\n\u001b[1;32m    438\u001b[0m \u001b[38;5;28;01mif\u001b[39;00m _prior_dtype \u001b[38;5;129;01mis\u001b[39;00m \u001b[38;5;28;01mNone\u001b[39;00m:\n\u001b[1;32m    439\u001b[0m     _prior_dtype \u001b[38;5;241m=\u001b[39m \u001b[38;5;28mself\u001b[39m\u001b[38;5;241m.\u001b[39mdtype\n\u001b[0;32m--> 440\u001b[0m \u001b[38;5;28;01mreturn\u001b[39;00m \u001b[43mFieldsWrapper\u001b[49m\u001b[43m(\u001b[49m\u001b[38;5;28;43mself\u001b[39;49m\u001b[43m,\u001b[49m\u001b[43m \u001b[49m\u001b[43m_prior_dtype\u001b[49m\u001b[43m,\u001b[49m\u001b[43m \u001b[49m\u001b[43mnames\u001b[49m\u001b[43m)\u001b[49m\n",
      "File \u001b[0;32m/opt/conda/lib/python3.10/site-packages/h5py/_hl/dataset.py:269\u001b[0m, in \u001b[0;36mFieldsWrapper.__init__\u001b[0;34m(self, dset, prior_dtype, names)\u001b[0m\n\u001b[1;32m    267\u001b[0m     \u001b[38;5;28mself\u001b[39m\u001b[38;5;241m.\u001b[39mextract_field \u001b[38;5;241m=\u001b[39m names\n\u001b[1;32m    268\u001b[0m     names \u001b[38;5;241m=\u001b[39m [names]\n\u001b[0;32m--> 269\u001b[0m \u001b[38;5;28mself\u001b[39m\u001b[38;5;241m.\u001b[39mread_dtype \u001b[38;5;241m=\u001b[39m \u001b[43mreadtime_dtype\u001b[49m\u001b[43m(\u001b[49m\u001b[43mprior_dtype\u001b[49m\u001b[43m,\u001b[49m\u001b[43m \u001b[49m\u001b[43mnames\u001b[49m\u001b[43m)\u001b[49m\n",
      "File \u001b[0;32m/opt/conda/lib/python3.10/site-packages/h5py/_hl/dataset.py:294\u001b[0m, in \u001b[0;36mreadtime_dtype\u001b[0;34m(basetype, names)\u001b[0m\n\u001b[1;32m    292\u001b[0m \u001b[38;5;250m\u001b[39m\u001b[38;5;124;03m\"\"\"Make a NumPy compound dtype with a subset of available fields\"\"\"\u001b[39;00m\n\u001b[1;32m    293\u001b[0m \u001b[38;5;28;01mif\u001b[39;00m basetype\u001b[38;5;241m.\u001b[39mnames \u001b[38;5;129;01mis\u001b[39;00m \u001b[38;5;28;01mNone\u001b[39;00m:  \u001b[38;5;66;03m# Names provided, but not compound\u001b[39;00m\n\u001b[0;32m--> 294\u001b[0m     \u001b[38;5;28;01mraise\u001b[39;00m \u001b[38;5;167;01mValueError\u001b[39;00m(\u001b[38;5;124m\"\u001b[39m\u001b[38;5;124mField names only allowed for compound types\u001b[39m\u001b[38;5;124m\"\u001b[39m)\n\u001b[1;32m    296\u001b[0m \u001b[38;5;28;01mfor\u001b[39;00m name \u001b[38;5;129;01min\u001b[39;00m names:  \u001b[38;5;66;03m# Check all names are legal\u001b[39;00m\n\u001b[1;32m    297\u001b[0m     \u001b[38;5;28;01mif\u001b[39;00m name \u001b[38;5;129;01mnot\u001b[39;00m \u001b[38;5;129;01min\u001b[39;00m basetype\u001b[38;5;241m.\u001b[39mnames:\n",
      "\u001b[0;31mValueError\u001b[0m: Field names only allowed for compound types"
     ]
    }
   ],
   "source": [
    "plt.hist(jet1_locals['pt'], bins=100)"
   ]
  },
  {
   "cell_type": "code",
   "execution_count": null,
   "metadata": {},
   "outputs": [],
   "source": []
  }
 ],
 "metadata": {
  "kernelspec": {
   "display_name": "base",
   "language": "python",
   "name": "python3"
  },
  "language_info": {
   "codemirror_mode": {
    "name": "ipython",
    "version": 3
   },
   "file_extension": ".py",
   "mimetype": "text/x-python",
   "name": "python",
   "nbconvert_exporter": "python",
   "pygments_lexer": "ipython3",
   "version": "3.10.13"
  }
 },
 "nbformat": 4,
 "nbformat_minor": 2
}

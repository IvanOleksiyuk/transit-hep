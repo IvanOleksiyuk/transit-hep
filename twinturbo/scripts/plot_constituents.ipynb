{
 "cells": [
  {
   "cell_type": "code",
   "execution_count": 3,
   "metadata": {},
   "outputs": [],
   "source": [
    "import pyrootutils\n",
    "import os\n",
    "root = pyrootutils.setup_root(search_from=os.path.abspath(''), pythonpath=True, cwd=True, indicator=\".project-root\")\n",
    "\n",
    "#from libs_snap.anomdiff.src.datamodules.cnst_lhco import LHCOLowDataset\n",
    "import logging\n",
    "import hydra\n",
    "from pathlib import Path\n",
    "\n",
    "from omegaconf import DictConfig, OmegaConf\n",
    "from twinturbo.src.utils.hydra_utils import instantiate_collection, log_hyperparameters, print_config, reload_original_config, save_config\n",
    "log = logging.getLogger(__name__)\n",
    "\n"
   ]
  },
  {
   "cell_type": "code",
   "execution_count": null,
   "metadata": {},
   "outputs": [],
   "source": [
    "@hydra.main(\n",
    "    version_base=None, config_path=str('../config'), config_name=\"TTL_reco_LLCR_1024b_lr2-4_dl.yaml\"\n",
    ") \n",
    "def main(cfg: DictConfig) -> None:\n",
    "    log.info(\"Setting up full job config\")\n",
    "    print_config(cfg)\n",
    "    data = cfg.data.template_training.dataset    \n",
    "    dataset = hydra.utils.instantiate(data)\n",
    "    print(dataset)\n",
    "    print(len(dataset))\n",
    "\n",
    "\n",
    "if __name__ == \"__main__\":\n",
    "    main()"
   ]
  },
  {
   "cell_type": "code",
   "execution_count": null,
   "metadata": {},
   "outputs": [],
   "source": []
  }
 ],
 "metadata": {
  "kernelspec": {
   "display_name": "base",
   "language": "python",
   "name": "python3"
  },
  "language_info": {
   "codemirror_mode": {
    "name": "ipython",
    "version": 3
   },
   "file_extension": ".py",
   "mimetype": "text/x-python",
   "name": "python",
   "nbconvert_exporter": "python",
   "pygments_lexer": "ipython3",
   "version": "3.10.13"
  }
 },
 "nbformat": 4,
 "nbformat_minor": 2
}

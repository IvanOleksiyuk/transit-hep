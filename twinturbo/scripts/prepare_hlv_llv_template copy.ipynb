{
 "cells": [
  {
   "cell_type": "code",
   "execution_count": 31,
   "metadata": {},
   "outputs": [],
   "source": [
    "import h5py\n",
    "import pandas as pd\n",
    "import os\n",
    "import matplotlib.pyplot as plt\n",
    "import numpy as np \n"
   ]
  },
  {
   "cell_type": "code",
   "execution_count": 32,
   "metadata": {},
   "outputs": [],
   "source": [
    "n_sig = 3000\n",
    "\n",
    "# File names\n",
    "file_hlv = '/srv/beegfs/scratch/groups/rodem/LHCO/lowlevel_sig.h5'\n",
    "file_llv = '/srv/beegfs/scratch/groups/rodem/LHCO/lowlevel_sig.h5'\n",
    "file_new = f'/srv/beegfs/scratch/groups/rodem/LHCO/lowlevel_sig_0HLV.h5'\n",
    "destroy_constituents = True"
   ]
  },
  {
   "cell_type": "code",
   "execution_count": 33,
   "metadata": {},
   "outputs": [],
   "source": [
    "with pd.HDFStore(file_new) as store:\n",
    "    # Save df1 in the group 'group1'\n",
    "    store.put('mjj', pd.read_hdf(file_hlv, key='mjj'))\n",
    "    store.put('hlv1', pd.read_hdf(file_hlv, key='hlv1')*0)\n",
    "    store.put('hlv2', pd.read_hdf(file_hlv, key='hlv2')*0)\n"
   ]
  },
  {
   "cell_type": "code",
   "execution_count": 34,
   "metadata": {},
   "outputs": [],
   "source": [
    "# Copy the file_llv to the new file\n",
    "#os.system('cp ' + file_llv + ' ' + file_new)"
   ]
  },
  {
   "cell_type": "code",
   "execution_count": 35,
   "metadata": {},
   "outputs": [
    {
     "name": "stdout",
     "output_type": "stream",
     "text": [
      "Keys: ['hlv1', 'hlv2', 'jet1_locals', 'jet2_locals', 'mjj']\n"
     ]
    }
   ],
   "source": [
    "hdf=h5py.File(file_llv, 'r')\n",
    "# List all groups and datasets in the file\n",
    "print(\"Keys: %s\" % list(hdf.keys()))\n",
    "\n",
    "# Access a specific dataset by key\n",
    "jet1_locals = hdf['jet1_locals']\n",
    "jet2_locals = hdf['jet2_locals']\n"
   ]
  },
  {
   "cell_type": "code",
   "execution_count": 36,
   "metadata": {},
   "outputs": [],
   "source": [
    "with h5py.File(file_new, \"a\") as file:\n",
    "    file.create_dataset(\"jet1_locals\", data=jet1_locals[:])\n",
    "with h5py.File(file_new, \"a\") as file:\n",
    "    file.create_dataset(\"jet2_locals\", data=jet2_locals[:])\n",
    "\n"
   ]
  },
  {
   "cell_type": "code",
   "execution_count": null,
   "metadata": {},
   "outputs": [],
   "source": []
  }
 ],
 "metadata": {
  "kernelspec": {
   "display_name": "base",
   "language": "python",
   "name": "python3"
  },
  "language_info": {
   "codemirror_mode": {
    "name": "ipython",
    "version": 3
   },
   "file_extension": ".py",
   "mimetype": "text/x-python",
   "name": "python",
   "nbconvert_exporter": "python",
   "pygments_lexer": "ipython3",
   "version": "3.10.13"
  }
 },
 "nbformat": 4,
 "nbformat_minor": 2
}
